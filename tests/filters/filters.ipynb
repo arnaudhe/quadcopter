{
 "cells": [
  {
   "cell_type": "markdown",
   "metadata": {},
   "source": [
    "## Low Pass Filter"
   ]
  },
  {
   "cell_type": "code",
   "execution_count": 11,
   "metadata": {},
   "outputs": [
    {
     "data": {
      "application/vnd.jupyter.widget-view+json": {
       "model_id": "e4daf8bc8c294e618d1157a269c68d39",
       "version_major": 2,
       "version_minor": 0
      },
      "text/plain": [
       "interactive(children=(IntSlider(value=250, description='frequency', max=500), Output()), _dom_classes=('widget…"
      ]
     },
     "metadata": {},
     "output_type": "display_data"
    }
   ],
   "source": [
    "import math\n",
    "import matplotlib.pyplot as plt\n",
    "from ipywidgets import interact\n",
    "\n",
    "RUN_PERIOD = 0.00001\n",
    "LOOP_COUNT = 5000\n",
    "CUTOFF_FREQUENCY = 100.0\n",
    "\n",
    "class LowPassFilter:\n",
    "\n",
    "    def __init__(self, period, cutoff_freq):\n",
    "        self._period = period\n",
    "        self._state = 0.0\n",
    "        self.update_cutoff_freq(cutoff_freq)\n",
    "\n",
    "    def update_cutoff_freq(self, cutoff_freq):\n",
    "        self._cutoff_freq = cutoff_freq\n",
    "        rc = 1 / (2 * math.pi * cutoff_freq)\n",
    "        self._gain = self._period / (rc + self._period)\n",
    "\n",
    "    def apply(self, sample):\n",
    "        self._state = self._state + self._gain * (sample - self._state)\n",
    "        return self._state\n",
    "\n",
    "@interact(frequency=(0, 500))\n",
    "def filter(frequency):\n",
    "    inputs = []\n",
    "    outputs = []\n",
    "    lowpass = LowPassFilter(RUN_PERIOD, CUTOFF_FREQUENCY)\n",
    "\n",
    "    for i in range(LOOP_COUNT):\n",
    "        val = math.sin(2 * math.pi * i * RUN_PERIOD * frequency)\n",
    "        inputs.append(val)\n",
    "        outputs.append(lowpass.apply(val))\n",
    "\n",
    "\n",
    "    fig, ax = plt.subplots(figsize = (10, 6))\n",
    "    ax.plot(list(range(LOOP_COUNT)), inputs)\n",
    "    ax.plot(list(range(LOOP_COUNT)), outputs)\n",
    "\n",
    "    ax.set(xlabel='time (s)', ylabel='voltage (mV)',\n",
    "           title=f'Low-pass filter, cutoff {CUTOFF_FREQUENCY} Hz, signal {frequency} Hz')\n",
    "    ax.grid()\n",
    "\n",
    "    plt.show()"
   ]
  },
  {
   "cell_type": "code",
   "execution_count": null,
   "metadata": {},
   "outputs": [],
   "source": []
  }
 ],
 "metadata": {
  "interpreter": {
   "hash": "31f2aee4e71d21fbe5cf8b01ff0e069b9275f58929596ceb00d14d90e3e16cd6"
  },
  "kernelspec": {
   "display_name": "Python 3.8.10 64-bit",
   "name": "python3"
  },
  "language_info": {
   "codemirror_mode": {
    "name": "ipython",
    "version": 3
   },
   "file_extension": ".py",
   "mimetype": "text/x-python",
   "name": "python",
   "nbconvert_exporter": "python",
   "pygments_lexer": "ipython3",
   "version": "3.8.10"
  },
  "orig_nbformat": 4
 },
 "nbformat": 4,
 "nbformat_minor": 2
}
